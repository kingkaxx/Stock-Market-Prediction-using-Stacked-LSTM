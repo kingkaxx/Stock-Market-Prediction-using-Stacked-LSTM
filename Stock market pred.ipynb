{
 "cells": [
  {
   "cell_type": "code",
   "execution_count": 1,
   "metadata": {},
   "outputs": [],
   "source": [
    "import pandas as pd\n",
    "import numpy as np\n",
    "from sklearn.model_selection import train_test_split\n",
    "from sklearn.ensemble import RandomForestRegressor\n",
    "from sklearn.preprocessing import MinMaxScaler\n",
    "stds = MinMaxScaler(feature_range=(0,1))\n",
    "from sklearn.svm import SVR"
   ]
  },
  {
   "cell_type": "code",
   "execution_count": 2,
   "metadata": {},
   "outputs": [
    {
     "data": {
      "text/html": [
       "<div>\n",
       "<style scoped>\n",
       "    .dataframe tbody tr th:only-of-type {\n",
       "        vertical-align: middle;\n",
       "    }\n",
       "\n",
       "    .dataframe tbody tr th {\n",
       "        vertical-align: top;\n",
       "    }\n",
       "\n",
       "    .dataframe thead th {\n",
       "        text-align: right;\n",
       "    }\n",
       "</style>\n",
       "<table border=\"1\" class=\"dataframe\">\n",
       "  <thead>\n",
       "    <tr style=\"text-align: right;\">\n",
       "      <th></th>\n",
       "      <th>Date</th>\n",
       "      <th>Open</th>\n",
       "      <th>High</th>\n",
       "      <th>Low</th>\n",
       "      <th>Close</th>\n",
       "      <th>Adj Close</th>\n",
       "      <th>Volume</th>\n",
       "    </tr>\n",
       "  </thead>\n",
       "  <tbody>\n",
       "    <tr>\n",
       "      <th>0</th>\n",
       "      <td>2010-03-02</td>\n",
       "      <td>381.000000</td>\n",
       "      <td>384.500000</td>\n",
       "      <td>377.500000</td>\n",
       "      <td>381.600006</td>\n",
       "      <td>283.754730</td>\n",
       "      <td>4053352.0</td>\n",
       "    </tr>\n",
       "    <tr>\n",
       "      <th>1</th>\n",
       "      <td>2010-03-03</td>\n",
       "      <td>384.500000</td>\n",
       "      <td>387.000000</td>\n",
       "      <td>382.075012</td>\n",
       "      <td>384.375000</td>\n",
       "      <td>285.818115</td>\n",
       "      <td>2754742.0</td>\n",
       "    </tr>\n",
       "    <tr>\n",
       "      <th>2</th>\n",
       "      <td>2010-03-04</td>\n",
       "      <td>384.000000</td>\n",
       "      <td>385.000000</td>\n",
       "      <td>378.500000</td>\n",
       "      <td>381.950012</td>\n",
       "      <td>284.014954</td>\n",
       "      <td>2053606.0</td>\n",
       "    </tr>\n",
       "    <tr>\n",
       "      <th>3</th>\n",
       "      <td>2010-03-05</td>\n",
       "      <td>382.500000</td>\n",
       "      <td>383.475006</td>\n",
       "      <td>380.075012</td>\n",
       "      <td>381.299988</td>\n",
       "      <td>283.531555</td>\n",
       "      <td>1287312.0</td>\n",
       "    </tr>\n",
       "    <tr>\n",
       "      <th>4</th>\n",
       "      <td>2010-03-08</td>\n",
       "      <td>383.799988</td>\n",
       "      <td>385.000000</td>\n",
       "      <td>380.149994</td>\n",
       "      <td>381.350006</td>\n",
       "      <td>283.568909</td>\n",
       "      <td>3015740.0</td>\n",
       "    </tr>\n",
       "  </tbody>\n",
       "</table>\n",
       "</div>"
      ],
      "text/plain": [
       "         Date        Open        High         Low       Close   Adj Close  \\\n",
       "0  2010-03-02  381.000000  384.500000  377.500000  381.600006  283.754730   \n",
       "1  2010-03-03  384.500000  387.000000  382.075012  384.375000  285.818115   \n",
       "2  2010-03-04  384.000000  385.000000  378.500000  381.950012  284.014954   \n",
       "3  2010-03-05  382.500000  383.475006  380.075012  381.299988  283.531555   \n",
       "4  2010-03-08  383.799988  385.000000  380.149994  381.350006  283.568909   \n",
       "\n",
       "      Volume  \n",
       "0  4053352.0  \n",
       "1  2754742.0  \n",
       "2  2053606.0  \n",
       "3  1287312.0  \n",
       "4  3015740.0  "
      ]
     },
     "execution_count": 2,
     "metadata": {},
     "output_type": "execute_result"
    }
   ],
   "source": [
    "data = pd.read_csv('TCS.NS.csv')\n",
    "data.head()"
   ]
  },
  {
   "cell_type": "code",
   "execution_count": 3,
   "metadata": {
    "scrolled": true
   },
   "outputs": [
    {
     "data": {
      "text/plain": [
       "Date         0\n",
       "Open         7\n",
       "High         7\n",
       "Low          7\n",
       "Close        7\n",
       "Adj Close    7\n",
       "Volume       7\n",
       "dtype: int64"
      ]
     },
     "execution_count": 3,
     "metadata": {},
     "output_type": "execute_result"
    }
   ],
   "source": [
    "data.isnull().sum()"
   ]
  },
  {
   "cell_type": "code",
   "execution_count": 4,
   "metadata": {},
   "outputs": [],
   "source": [
    "data = data.dropna()"
   ]
  },
  {
   "cell_type": "code",
   "execution_count": 5,
   "metadata": {},
   "outputs": [
    {
     "data": {
      "text/plain": [
       "Date         0\n",
       "Open         0\n",
       "High         0\n",
       "Low          0\n",
       "Close        0\n",
       "Adj Close    0\n",
       "Volume       0\n",
       "dtype: int64"
      ]
     },
     "execution_count": 5,
     "metadata": {},
     "output_type": "execute_result"
    }
   ],
   "source": [
    "data.isnull().sum()"
   ]
  },
  {
   "cell_type": "code",
   "execution_count": 6,
   "metadata": {},
   "outputs": [],
   "source": [
    "data = data.drop(['Date'],axis=1)"
   ]
  },
  {
   "cell_type": "code",
   "execution_count": 7,
   "metadata": {},
   "outputs": [],
   "source": [
    "large_val = ['Open','High','Low','Adj Close','Volume']\n",
    "data[large_val] = stds.fit_transform(data[large_val])"
   ]
  },
  {
   "cell_type": "code",
   "execution_count": 8,
   "metadata": {},
   "outputs": [
    {
     "data": {
      "text/html": [
       "<div>\n",
       "<style scoped>\n",
       "    .dataframe tbody tr th:only-of-type {\n",
       "        vertical-align: middle;\n",
       "    }\n",
       "\n",
       "    .dataframe tbody tr th {\n",
       "        vertical-align: top;\n",
       "    }\n",
       "\n",
       "    .dataframe thead th {\n",
       "        text-align: right;\n",
       "    }\n",
       "</style>\n",
       "<table border=\"1\" class=\"dataframe\">\n",
       "  <thead>\n",
       "    <tr style=\"text-align: right;\">\n",
       "      <th></th>\n",
       "      <th>Open</th>\n",
       "      <th>High</th>\n",
       "      <th>Low</th>\n",
       "      <th>Close</th>\n",
       "      <th>Adj Close</th>\n",
       "      <th>Volume</th>\n",
       "    </tr>\n",
       "  </thead>\n",
       "  <tbody>\n",
       "    <tr>\n",
       "      <th>0</th>\n",
       "      <td>0.010839</td>\n",
       "      <td>0.010878</td>\n",
       "      <td>0.014122</td>\n",
       "      <td>381.600006</td>\n",
       "      <td>0.009252</td>\n",
       "      <td>0.046026</td>\n",
       "    </tr>\n",
       "    <tr>\n",
       "      <th>1</th>\n",
       "      <td>0.012244</td>\n",
       "      <td>0.011867</td>\n",
       "      <td>0.015974</td>\n",
       "      <td>384.375000</td>\n",
       "      <td>0.010058</td>\n",
       "      <td>0.031280</td>\n",
       "    </tr>\n",
       "    <tr>\n",
       "      <th>2</th>\n",
       "      <td>0.012043</td>\n",
       "      <td>0.011076</td>\n",
       "      <td>0.014527</td>\n",
       "      <td>381.950012</td>\n",
       "      <td>0.009353</td>\n",
       "      <td>0.023319</td>\n",
       "    </tr>\n",
       "    <tr>\n",
       "      <th>3</th>\n",
       "      <td>0.011441</td>\n",
       "      <td>0.010473</td>\n",
       "      <td>0.015165</td>\n",
       "      <td>381.299988</td>\n",
       "      <td>0.009164</td>\n",
       "      <td>0.014617</td>\n",
       "    </tr>\n",
       "    <tr>\n",
       "      <th>4</th>\n",
       "      <td>0.011963</td>\n",
       "      <td>0.011076</td>\n",
       "      <td>0.015195</td>\n",
       "      <td>381.350006</td>\n",
       "      <td>0.009179</td>\n",
       "      <td>0.034244</td>\n",
       "    </tr>\n",
       "  </tbody>\n",
       "</table>\n",
       "</div>"
      ],
      "text/plain": [
       "       Open      High       Low       Close  Adj Close    Volume\n",
       "0  0.010839  0.010878  0.014122  381.600006   0.009252  0.046026\n",
       "1  0.012244  0.011867  0.015974  384.375000   0.010058  0.031280\n",
       "2  0.012043  0.011076  0.014527  381.950012   0.009353  0.023319\n",
       "3  0.011441  0.010473  0.015165  381.299988   0.009164  0.014617\n",
       "4  0.011963  0.011076  0.015195  381.350006   0.009179  0.034244"
      ]
     },
     "execution_count": 8,
     "metadata": {},
     "output_type": "execute_result"
    }
   ],
   "source": [
    "data.head()"
   ]
  },
  {
   "cell_type": "code",
   "execution_count": 9,
   "metadata": {},
   "outputs": [
    {
     "data": {
      "text/html": [
       "<div>\n",
       "<style scoped>\n",
       "    .dataframe tbody tr th:only-of-type {\n",
       "        vertical-align: middle;\n",
       "    }\n",
       "\n",
       "    .dataframe tbody tr th {\n",
       "        vertical-align: top;\n",
       "    }\n",
       "\n",
       "    .dataframe thead th {\n",
       "        text-align: right;\n",
       "    }\n",
       "</style>\n",
       "<table border=\"1\" class=\"dataframe\">\n",
       "  <thead>\n",
       "    <tr style=\"text-align: right;\">\n",
       "      <th></th>\n",
       "      <th>Open</th>\n",
       "      <th>High</th>\n",
       "      <th>Low</th>\n",
       "      <th>Adj Close</th>\n",
       "      <th>Volume</th>\n",
       "    </tr>\n",
       "  </thead>\n",
       "  <tbody>\n",
       "    <tr>\n",
       "      <th>0</th>\n",
       "      <td>0.010839</td>\n",
       "      <td>0.010878</td>\n",
       "      <td>0.014122</td>\n",
       "      <td>0.009252</td>\n",
       "      <td>0.046026</td>\n",
       "    </tr>\n",
       "    <tr>\n",
       "      <th>1</th>\n",
       "      <td>0.012244</td>\n",
       "      <td>0.011867</td>\n",
       "      <td>0.015974</td>\n",
       "      <td>0.010058</td>\n",
       "      <td>0.031280</td>\n",
       "    </tr>\n",
       "    <tr>\n",
       "      <th>2</th>\n",
       "      <td>0.012043</td>\n",
       "      <td>0.011076</td>\n",
       "      <td>0.014527</td>\n",
       "      <td>0.009353</td>\n",
       "      <td>0.023319</td>\n",
       "    </tr>\n",
       "    <tr>\n",
       "      <th>3</th>\n",
       "      <td>0.011441</td>\n",
       "      <td>0.010473</td>\n",
       "      <td>0.015165</td>\n",
       "      <td>0.009164</td>\n",
       "      <td>0.014617</td>\n",
       "    </tr>\n",
       "    <tr>\n",
       "      <th>4</th>\n",
       "      <td>0.011963</td>\n",
       "      <td>0.011076</td>\n",
       "      <td>0.015195</td>\n",
       "      <td>0.009179</td>\n",
       "      <td>0.034244</td>\n",
       "    </tr>\n",
       "  </tbody>\n",
       "</table>\n",
       "</div>"
      ],
      "text/plain": [
       "       Open      High       Low  Adj Close    Volume\n",
       "0  0.010839  0.010878  0.014122   0.009252  0.046026\n",
       "1  0.012244  0.011867  0.015974   0.010058  0.031280\n",
       "2  0.012043  0.011076  0.014527   0.009353  0.023319\n",
       "3  0.011441  0.010473  0.015165   0.009164  0.014617\n",
       "4  0.011963  0.011076  0.015195   0.009179  0.034244"
      ]
     },
     "execution_count": 9,
     "metadata": {},
     "output_type": "execute_result"
    }
   ],
   "source": [
    "close = data.pop('Close')\n",
    "data = data\n",
    "data.head()"
   ]
  },
  {
   "cell_type": "code",
   "execution_count": 10,
   "metadata": {},
   "outputs": [],
   "source": [
    "x_train,x_test,y_train,y_test = train_test_split(data,close,test_size = 0.2)"
   ]
  },
  {
   "cell_type": "code",
   "execution_count": 11,
   "metadata": {},
   "outputs": [],
   "source": [
    "model = RandomForestRegressor(max_depth=50, random_state=0,n_estimators=100)\n",
    "#model =  SVR(C=1000, kernel ='rbf')"
   ]
  },
  {
   "cell_type": "code",
   "execution_count": 12,
   "metadata": {
    "scrolled": true
   },
   "outputs": [],
   "source": [
    "model.fit(x_train,y_train)\n",
    "import math\n",
    "from sklearn.metrics import mean_squared_error"
   ]
  },
  {
   "cell_type": "code",
   "execution_count": 26,
   "metadata": {
    "scrolled": true
   },
   "outputs": [
    {
     "name": "stdout",
     "output_type": "stream",
     "text": [
      "[1998.85900368 2235.33650147 2084.42999143 1525.79448131 1471.67573477\n",
      "  594.00575132 1053.89381106 1064.51350336 2198.44154067 1290.62639155\n",
      "  420.98699742 1313.57798935 2068.91798334 1743.28172114 1913.04700921\n",
      "  380.0962497  1259.1511011  1861.80901618 1247.42479734 1863.47149667\n",
      "  591.10199892 1269.99609132 1302.05821904 1080.32089703  611.54399784\n",
      "  632.36825792 1034.90042293 2255.41850343  612.69075792  541.05400444\n",
      " 1293.3452173  1228.32849614  485.39699922 2192.77100588 1517.73341446\n",
      " 2267.84350343  615.47924748 2248.24803234 1318.51081301 2076.2115039\n",
      "  540.77600156 1116.27472419 1237.48130734  427.22699892 2714.04798579\n",
      "  638.13075492 1265.0026794   551.31774784 1352.93827776  725.67949232\n",
      "  541.12049808 1196.47399186  581.612494   1297.05910656 1899.90550774\n",
      "  788.80949832 1200.91999515 2150.88851323  560.07900744 1330.53240715\n",
      "  647.42224676 2170.19903332  658.96575372  513.58050198 1099.6210964\n",
      " 1271.47509158 1210.46731066 1176.16470582 1885.35200329 1046.9464966\n",
      " 1034.72370459  590.09275564 1407.01090106 1231.48320319 1285.56248773\n",
      " 2257.43801274 1364.57569941 1221.58109617 1229.9071021  1878.78651248\n",
      " 2253.50803479 2263.77196521 1271.1998938   582.35849796  936.2462578\n",
      " 1124.1124     1150.97139508 1835.76101206 1117.79809573 1273.46221301\n",
      "  361.50099616  522.85675228  568.66325432 1327.10460565  586.0087524\n",
      " 1268.0102246  1251.63100572 1282.8627978  1271.04629875  519.24151254\n",
      "  602.43299568  567.8050024   499.57575462 1137.43973271 1106.27131586\n",
      " 1350.66369033 1921.57600082 1074.00190921 1340.58519795 1224.94289313\n",
      " 1139.55108023 2718.40349118  641.52824412 1260.3602111  1071.38918688\n",
      "  631.70025744 1257.02881326  520.52575102 2026.67549188  591.01275144\n",
      " 2117.15601323 1056.49390135 2072.92850955 1260.73470704  627.68774844\n",
      " 1293.24368656 1330.27188465  876.71301308 2198.49851078 1028.77902086\n",
      " 1106.16821542 1313.70337396 1228.49231691 2184.36251225 2072.78551642\n",
      " 2081.02950685 1298.95329969 1327.38440427  530.90825912  673.39599736\n",
      " 1296.71607901  565.78074472  761.35048968 2212.11298579 2055.91648066\n",
      " 1107.31229877 1198.57600478 1106.06781491  489.69974646 1216.28060425\n",
      "  616.3350048  2184.46700196 2040.46550034 1124.56231315 1239.65857663\n",
      " 2283.18299069 2207.6850098   562.94399664  778.0724892   364.87724586\n",
      " 1242.24140255 1310.55218858 1765.60150753  680.84700252  607.835003\n",
      " 1763.79030625  650.0699868  1325.62480211 1992.7049975  1222.90340689\n",
      " 1222.36640498 1140.44659905  580.31075372 1234.93479856  891.08275324\n",
      "  534.84175528 1242.27561155 1160.48332272 2503.76246815  589.44324052\n",
      " 1194.19241584 2154.07401127  559.77149484 2158.66946766  602.02300048\n",
      " 1224.04039797  541.87975156 1208.78078757 1095.60228161  548.52099796\n",
      " 1475.11682719 1750.24029164  382.57599136  424.58800798  380.96424718\n",
      " 1944.78400641  759.98775144 1067.20541741 1819.93750619 2102.56301274\n",
      "  564.00474136 1184.61190906 2084.78599608 1006.35679873 1336.67488286\n",
      " 1251.34850718 1021.19720828 2042.8775011   919.75150444 2489.1524412\n",
      "  613.56575972  545.38075192 1262.92140755 1332.51489622 1164.38709704\n",
      "  589.93699952 1277.41068955 1225.22848031 1076.52969964 2021.85000962\n",
      " 1198.47479747 1176.77729365  911.20525924 1084.36669423  575.29400264\n",
      "  580.23474196  639.95074652  538.60950252 1465.06651251 1095.56330204\n",
      " 1154.97230959 2741.61450686 1459.42450696 1980.6225061  2112.50550784\n",
      " 1289.80630988  420.2112479  2236.1025098  1095.13118779  673.08950252\n",
      "  649.45399964 1978.77699221  489.9299961   754.39850036 1132.77201413\n",
      "  467.32900114 2040.45899642  534.21700612 1896.80202138 1888.95299682\n",
      "  573.39199292 2228.43049559  713.49150744 1719.42079834 1276.63499377\n",
      " 2218.55797109 1136.63339097  561.29649964 2030.39500232  936.97049388\n",
      " 1358.9310988  1113.6620277  1145.23919432 1959.37599731  524.41849796\n",
      " 1078.71379275  568.89525144 2055.42098617 2219.63298089 1252.44439316\n",
      " 1174.2357899  1896.23302482 1197.82942881 1268.78699223  369.98824682\n",
      " 1253.98798949 2001.07200807  566.5037482  2023.8275061  2201.33800294\n",
      "  633.58549628 1734.26169082 1105.03129783  489.30699742 2048.84101695\n",
      " 1474.13512552  994.54345091 1243.09430419 2221.46748775  482.03950192\n",
      " 1989.88899064  881.32200852 1223.22341305 1672.82607896  521.48900894\n",
      " 1219.27821524 1481.20521468 1287.04679064 2215.04299314 2007.14600347\n",
      "  568.56799568 1049.10690311 1276.32661996  574.32675168  618.02299808\n",
      " 1000.65520076 1343.73638067  977.8887554  1172.79498895 1747.86831541\n",
      " 1097.57629042 1245.94849975  993.64099316 2818.00598873 1323.15480949\n",
      "  686.69175348  497.07400564 1160.28641349 1240.32840793  692.33800048\n",
      " 2194.82551274  631.7675096  1293.68728756  570.65800348 2012.83399902\n",
      "  590.20550648 1184.08738051 2251.72798579  373.1750006  2245.98250735\n",
      " 1141.58919186 1846.63499769 1302.09381471 1210.48680413 1324.96399536\n",
      " 1206.19790517  544.7424988  1310.11399769  654.38800108 1409.84910544\n",
      "  471.30024934 1405.97940446 1341.92898803 1246.16420405  533.88926008\n",
      "  486.6924952   619.1824946  1448.22767336  550.91825252 1980.4979834\n",
      " 1749.55720821  627.59100336 1921.53149161  583.49299388 2251.12800539\n",
      "  613.51324292 2035.67998777  671.86224796 1253.61270746  647.82849976\n",
      " 1133.6486316   538.17100336 1318.97069686 2290.11653822  605.30950552\n",
      "  421.16350126 1240.47751339  750.07574652 1105.96802018 1918.99448725\n",
      "  729.91649664 2249.24102058  615.38526344  620.36424748 1111.66901974\n",
      " 1177.2346057   397.39924928  425.59775324 2162.7949608   506.52525024\n",
      "  612.80150384 1220.48539054 2188.83000735 1290.30478635 1345.1356042\n",
      " 1353.17458627  661.87599916 1269.19070669 1288.20589345 1289.18909304\n",
      "  648.21824232 2047.9120093  1361.96801014 1020.48810124 1186.83869265\n",
      " 1132.5251243   535.68524604 1154.47908439 2029.70199583 2234.74398187\n",
      "  620.5437464  2702.17396962 1750.15550172 1251.60109503 1130.08239867\n",
      "  613.5924958   371.09424778 2815.78798089 1284.78799554 1248.95060651\n",
      " 1209.55020863 1075.37590941 1201.41778803  523.74850516 1324.07820185\n",
      " 1244.84950549  577.12274544  436.35975246  527.54450012  566.49774904\n",
      " 1267.95740358 1064.06788807  585.26149964 1269.98609478 2080.8349853\n",
      " 1307.10131223 1112.38722906 1283.51469226  624.85149904  673.7862452\n",
      " 2077.50948481 2464.38648677 1048.18690555 1252.84771488  532.01775564\n",
      " 1271.38858891  751.92025204 1233.37789074 1124.22360835 2167.00301029\n",
      " 1292.91250245 1216.20399668 1158.36281845 1136.14459719 1181.64561283\n",
      " 1721.80458244 1242.16090823 1422.65809715 1262.20991321 2132.59403087\n",
      " 1873.21950819  579.14449292 1848.52099489  571.00524784 1422.27679473\n",
      "  636.99450432  608.52400264  618.5087494   576.70148944  398.11975306\n",
      " 1090.63597292  644.86799808 1044.02699093 2080.5225049  2078.10850097\n",
      " 2282.03700931  650.50225216 1914.12798082 1142.73777579 1249.79588255\n",
      " 2044.93898188 1142.32670534 1255.11359251 1305.73948719 1155.55379753\n",
      " 1236.74740346  620.65174628 1441.62697143  391.13674928  566.81050468\n",
      " 1879.34250021 1258.8398987  1180.49609    1274.7251209  1920.14150271\n",
      "  603.3462416  2251.90196276  752.58600156 2246.98350098  614.80099916\n",
      " 1159.20768567 1254.46138181  568.1112542  1211.16810785 2127.30802744\n",
      " 1101.08290539  596.44550348 1252.07541141  731.18849856 1235.69189097\n",
      " 1327.32368774 1252.00089725  549.95100276  523.75399904 1264.39159671\n",
      " 2066.75448114 1249.05181263  478.83975036  604.78674628 1517.58199976\n",
      " 1240.75979009 1029.49709516  536.62400984 1299.82909801  415.67300018\n",
      " 2045.02250609 1252.147395   1240.04579831 2175.53652107  709.99075372\n",
      " 1164.65447256 1095.67109256 2173.50450196 1257.07500123 2741.94151617\n",
      "  608.44125   ]\n"
     ]
    }
   ],
   "source": [
    "pred = model.predict(x_test)\n",
    "\n",
    "print(pred)\n"
   ]
  },
  {
   "cell_type": "code",
   "execution_count": 27,
   "metadata": {},
   "outputs": [],
   "source": [
    "test_again = pd.read_csv('test.csv')"
   ]
  },
  {
   "cell_type": "code",
   "execution_count": 28,
   "metadata": {
    "scrolled": false
   },
   "outputs": [
    {
     "name": "stdout",
     "output_type": "stream",
     "text": [
      "9.681692259550646\n",
      "[2821.56698236]\n"
     ]
    }
   ],
   "source": [
    "pt = np.sqrt(np.mean((pred - y_test)**2))\n",
    "pred2 = model.predict(test_again)\n",
    "print(pt)\n",
    "print(pred2)"
   ]
  },
  {
   "cell_type": "code",
   "execution_count": 29,
   "metadata": {},
   "outputs": [],
   "source": [
    "import matplotlib.pyplot as plt"
   ]
  },
  {
   "cell_type": "code",
   "execution_count": 30,
   "metadata": {},
   "outputs": [
    {
     "data": {
      "image/png": "[encoded data removed]",
      "text/plain": [
       "<Figure size 432x288 with 1 Axes>"
      ]
     },
     "metadata": {
      "needs_background": "light"
     },
     "output_type": "display_data"
    }
   ],
   "source": [
    "plt.figure()\n",
    "plt.plot(close)\n",
    "plt.plot(pt)\n",
    "plt.xlabel(\"x\")\n",
    "plt.ylabel('y')\n",
    "plt.show()"
   ]
  },
  {
   "cell_type": "code",
   "execution_count": null,
   "metadata": {},
   "outputs": [],
   "source": []
  }
 ],
 "metadata": {
  "kernelspec": {
   "display_name": "Python 3",
   "language": "python",
   "name": "python3"
  },
  "language_info": {
   "codemirror_mode": {
    "name": "ipython",
    "version": 3
   },
   "file_extension": ".py",
   "mimetype": "text/x-python",
   "name": "python",
   "nbconvert_exporter": "python",
   "pygments_lexer": "ipython3",
   "version": "3.7.9"
  }
 },
 "nbformat": 4,
 "nbformat_minor": 4
}
